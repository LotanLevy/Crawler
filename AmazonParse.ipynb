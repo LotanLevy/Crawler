{
  "nbformat": 4,
  "nbformat_minor": 0,
  "metadata": {
    "colab": {
      "name": "AmazonParse.ipynb",
      "provenance": [],
      "include_colab_link": true
    },
    "kernelspec": {
      "name": "python3",
      "display_name": "Python 3"
    }
  },
  "cells": [
    {
      "cell_type": "markdown",
      "metadata": {
        "id": "view-in-github",
        "colab_type": "text"
      },
      "source": [
        "<a href=\"https://colab.research.google.com/github/LotanLevy/Crawler/blob/master/AmazonParse.ipynb\" target=\"_parent\"><img src=\"https://colab.research.google.com/assets/colab-badge.svg\" alt=\"Open In Colab\"/></a>"
      ]
    },
    {
      "cell_type": "code",
      "metadata": {
        "id": "9UpxkDbyOUUk",
        "colab_type": "code",
        "colab": {
          "base_uri": "https://localhost:8080/",
          "height": 1000
        },
        "outputId": "05fdaad3-af19-49c6-b0ef-9a997391a3b3"
      },
      "source": [
        "pip install tensorflow-gpu==2.0.0"
      ],
      "execution_count": 1,
      "outputs": [
        {
          "output_type": "stream",
          "text": [
            "Collecting tensorflow-gpu==2.0.0\n",
            "\u001b[?25l  Downloading https://files.pythonhosted.org/packages/25/44/47f0722aea081697143fbcf5d2aa60d1aee4aaacb5869aee2b568974777b/tensorflow_gpu-2.0.0-cp36-cp36m-manylinux2010_x86_64.whl (380.8MB)\n",
            "\u001b[K     |████████████████████████████████| 380.8MB 41kB/s \n",
            "\u001b[?25hRequirement already satisfied: google-pasta>=0.1.6 in /usr/local/lib/python3.6/dist-packages (from tensorflow-gpu==2.0.0) (0.2.0)\n",
            "Collecting tensorflow-estimator<2.1.0,>=2.0.0\n",
            "\u001b[?25l  Downloading https://files.pythonhosted.org/packages/fc/08/8b927337b7019c374719145d1dceba21a8bb909b93b1ad6f8fb7d22c1ca1/tensorflow_estimator-2.0.1-py2.py3-none-any.whl (449kB)\n",
            "\u001b[K     |████████████████████████████████| 450kB 36.9MB/s \n",
            "\u001b[?25hRequirement already satisfied: six>=1.10.0 in /usr/local/lib/python3.6/dist-packages (from tensorflow-gpu==2.0.0) (1.15.0)\n",
            "Requirement already satisfied: protobuf>=3.6.1 in /usr/local/lib/python3.6/dist-packages (from tensorflow-gpu==2.0.0) (3.12.2)\n",
            "Requirement already satisfied: astor>=0.6.0 in /usr/local/lib/python3.6/dist-packages (from tensorflow-gpu==2.0.0) (0.8.1)\n",
            "Requirement already satisfied: keras-applications>=1.0.8 in /usr/local/lib/python3.6/dist-packages (from tensorflow-gpu==2.0.0) (1.0.8)\n",
            "Requirement already satisfied: grpcio>=1.8.6 in /usr/local/lib/python3.6/dist-packages (from tensorflow-gpu==2.0.0) (1.30.0)\n",
            "Collecting gast==0.2.2\n",
            "  Downloading https://files.pythonhosted.org/packages/4e/35/11749bf99b2d4e3cceb4d55ca22590b0d7c2c62b9de38ac4a4a7f4687421/gast-0.2.2.tar.gz\n",
            "Requirement already satisfied: keras-preprocessing>=1.0.5 in /usr/local/lib/python3.6/dist-packages (from tensorflow-gpu==2.0.0) (1.1.2)\n",
            "Requirement already satisfied: numpy<2.0,>=1.16.0 in /usr/local/lib/python3.6/dist-packages (from tensorflow-gpu==2.0.0) (1.18.5)\n",
            "Requirement already satisfied: opt-einsum>=2.3.2 in /usr/local/lib/python3.6/dist-packages (from tensorflow-gpu==2.0.0) (3.3.0)\n",
            "Requirement already satisfied: wrapt>=1.11.1 in /usr/local/lib/python3.6/dist-packages (from tensorflow-gpu==2.0.0) (1.12.1)\n",
            "Requirement already satisfied: absl-py>=0.7.0 in /usr/local/lib/python3.6/dist-packages (from tensorflow-gpu==2.0.0) (0.9.0)\n",
            "Requirement already satisfied: termcolor>=1.1.0 in /usr/local/lib/python3.6/dist-packages (from tensorflow-gpu==2.0.0) (1.1.0)\n",
            "Requirement already satisfied: wheel>=0.26 in /usr/local/lib/python3.6/dist-packages (from tensorflow-gpu==2.0.0) (0.34.2)\n",
            "Collecting tensorboard<2.1.0,>=2.0.0\n",
            "\u001b[?25l  Downloading https://files.pythonhosted.org/packages/76/54/99b9d5d52d5cb732f099baaaf7740403e83fe6b0cedde940fabd2b13d75a/tensorboard-2.0.2-py3-none-any.whl (3.8MB)\n",
            "\u001b[K     |████████████████████████████████| 3.8MB 35.4MB/s \n",
            "\u001b[?25hRequirement already satisfied: setuptools in /usr/local/lib/python3.6/dist-packages (from protobuf>=3.6.1->tensorflow-gpu==2.0.0) (49.1.0)\n",
            "Requirement already satisfied: h5py in /usr/local/lib/python3.6/dist-packages (from keras-applications>=1.0.8->tensorflow-gpu==2.0.0) (2.10.0)\n",
            "Requirement already satisfied: werkzeug>=0.11.15 in /usr/local/lib/python3.6/dist-packages (from tensorboard<2.1.0,>=2.0.0->tensorflow-gpu==2.0.0) (1.0.1)\n",
            "Requirement already satisfied: markdown>=2.6.8 in /usr/local/lib/python3.6/dist-packages (from tensorboard<2.1.0,>=2.0.0->tensorflow-gpu==2.0.0) (3.2.2)\n",
            "Requirement already satisfied: google-auth-oauthlib<0.5,>=0.4.1 in /usr/local/lib/python3.6/dist-packages (from tensorboard<2.1.0,>=2.0.0->tensorflow-gpu==2.0.0) (0.4.1)\n",
            "Requirement already satisfied: google-auth<2,>=1.6.3 in /usr/local/lib/python3.6/dist-packages (from tensorboard<2.1.0,>=2.0.0->tensorflow-gpu==2.0.0) (1.17.2)\n",
            "Requirement already satisfied: requests<3,>=2.21.0 in /usr/local/lib/python3.6/dist-packages (from tensorboard<2.1.0,>=2.0.0->tensorflow-gpu==2.0.0) (2.23.0)\n",
            "Requirement already satisfied: importlib-metadata; python_version < \"3.8\" in /usr/local/lib/python3.6/dist-packages (from markdown>=2.6.8->tensorboard<2.1.0,>=2.0.0->tensorflow-gpu==2.0.0) (1.7.0)\n",
            "Requirement already satisfied: requests-oauthlib>=0.7.0 in /usr/local/lib/python3.6/dist-packages (from google-auth-oauthlib<0.5,>=0.4.1->tensorboard<2.1.0,>=2.0.0->tensorflow-gpu==2.0.0) (1.3.0)\n",
            "Requirement already satisfied: cachetools<5.0,>=2.0.0 in /usr/local/lib/python3.6/dist-packages (from google-auth<2,>=1.6.3->tensorboard<2.1.0,>=2.0.0->tensorflow-gpu==2.0.0) (4.1.1)\n",
            "Requirement already satisfied: pyasn1-modules>=0.2.1 in /usr/local/lib/python3.6/dist-packages (from google-auth<2,>=1.6.3->tensorboard<2.1.0,>=2.0.0->tensorflow-gpu==2.0.0) (0.2.8)\n",
            "Requirement already satisfied: rsa<5,>=3.1.4; python_version >= \"3\" in /usr/local/lib/python3.6/dist-packages (from google-auth<2,>=1.6.3->tensorboard<2.1.0,>=2.0.0->tensorflow-gpu==2.0.0) (4.6)\n",
            "Requirement already satisfied: idna<3,>=2.5 in /usr/local/lib/python3.6/dist-packages (from requests<3,>=2.21.0->tensorboard<2.1.0,>=2.0.0->tensorflow-gpu==2.0.0) (2.10)\n",
            "Requirement already satisfied: chardet<4,>=3.0.2 in /usr/local/lib/python3.6/dist-packages (from requests<3,>=2.21.0->tensorboard<2.1.0,>=2.0.0->tensorflow-gpu==2.0.0) (3.0.4)\n",
            "Requirement already satisfied: urllib3!=1.25.0,!=1.25.1,<1.26,>=1.21.1 in /usr/local/lib/python3.6/dist-packages (from requests<3,>=2.21.0->tensorboard<2.1.0,>=2.0.0->tensorflow-gpu==2.0.0) (1.24.3)\n",
            "Requirement already satisfied: certifi>=2017.4.17 in /usr/local/lib/python3.6/dist-packages (from requests<3,>=2.21.0->tensorboard<2.1.0,>=2.0.0->tensorflow-gpu==2.0.0) (2020.6.20)\n",
            "Requirement already satisfied: zipp>=0.5 in /usr/local/lib/python3.6/dist-packages (from importlib-metadata; python_version < \"3.8\"->markdown>=2.6.8->tensorboard<2.1.0,>=2.0.0->tensorflow-gpu==2.0.0) (3.1.0)\n",
            "Requirement already satisfied: oauthlib>=3.0.0 in /usr/local/lib/python3.6/dist-packages (from requests-oauthlib>=0.7.0->google-auth-oauthlib<0.5,>=0.4.1->tensorboard<2.1.0,>=2.0.0->tensorflow-gpu==2.0.0) (3.1.0)\n",
            "Requirement already satisfied: pyasn1<0.5.0,>=0.4.6 in /usr/local/lib/python3.6/dist-packages (from pyasn1-modules>=0.2.1->google-auth<2,>=1.6.3->tensorboard<2.1.0,>=2.0.0->tensorflow-gpu==2.0.0) (0.4.8)\n",
            "Building wheels for collected packages: gast\n",
            "  Building wheel for gast (setup.py) ... \u001b[?25l\u001b[?25hdone\n",
            "  Created wheel for gast: filename=gast-0.2.2-cp36-none-any.whl size=7540 sha256=6e42384a856b4d54325416870e0623c55eb9781f064fba36028cdca238503dc6\n",
            "  Stored in directory: /root/.cache/pip/wheels/5c/2e/7e/a1d4d4fcebe6c381f378ce7743a3ced3699feb89bcfbdadadd\n",
            "Successfully built gast\n",
            "\u001b[31mERROR: tensorflow 2.2.0 has requirement gast==0.3.3, but you'll have gast 0.2.2 which is incompatible.\u001b[0m\n",
            "\u001b[31mERROR: tensorflow 2.2.0 has requirement tensorboard<2.3.0,>=2.2.0, but you'll have tensorboard 2.0.2 which is incompatible.\u001b[0m\n",
            "\u001b[31mERROR: tensorflow 2.2.0 has requirement tensorflow-estimator<2.3.0,>=2.2.0, but you'll have tensorflow-estimator 2.0.1 which is incompatible.\u001b[0m\n",
            "\u001b[31mERROR: tensorflow-probability 0.10.0 has requirement gast>=0.3.2, but you'll have gast 0.2.2 which is incompatible.\u001b[0m\n",
            "Installing collected packages: tensorflow-estimator, gast, tensorboard, tensorflow-gpu\n",
            "  Found existing installation: tensorflow-estimator 2.2.0\n",
            "    Uninstalling tensorflow-estimator-2.2.0:\n",
            "      Successfully uninstalled tensorflow-estimator-2.2.0\n",
            "  Found existing installation: gast 0.3.3\n",
            "    Uninstalling gast-0.3.3:\n",
            "      Successfully uninstalled gast-0.3.3\n",
            "  Found existing installation: tensorboard 2.2.2\n",
            "    Uninstalling tensorboard-2.2.2:\n",
            "      Successfully uninstalled tensorboard-2.2.2\n",
            "Successfully installed gast-0.2.2 tensorboard-2.0.2 tensorflow-estimator-2.0.1 tensorflow-gpu-2.0.0\n"
          ],
          "name": "stdout"
        }
      ]
    },
    {
      "cell_type": "code",
      "metadata": {
        "id": "VkSMwCWPmBfL",
        "colab_type": "code",
        "colab": {
          "base_uri": "https://localhost:8080/",
          "height": 136
        },
        "outputId": "c3278531-9a49-4f6a-abf6-9f5a911daadb"
      },
      "source": [
        "!git clone https://github.com/LotanLevy/Crawler"
      ],
      "execution_count": 3,
      "outputs": [
        {
          "output_type": "stream",
          "text": [
            "Cloning into 'Crawler'...\n",
            "remote: Enumerating objects: 169, done.\u001b[K\n",
            "remote: Counting objects:   0% (1/169)\u001b[K\rremote: Counting objects:   1% (2/169)\u001b[K\rremote: Counting objects:   2% (4/169)\u001b[K\rremote: Counting objects:   3% (6/169)\u001b[K\rremote: Counting objects:   4% (7/169)\u001b[K\rremote: Counting objects:   5% (9/169)\u001b[K\rremote: Counting objects:   6% (11/169)\u001b[K\rremote: Counting objects:   7% (12/169)\u001b[K\rremote: Counting objects:   8% (14/169)\u001b[K\rremote: Counting objects:   9% (16/169)\u001b[K\rremote: Counting objects:  10% (17/169)\u001b[K\rremote: Counting objects:  11% (19/169)\u001b[K\rremote: Counting objects:  12% (21/169)\u001b[K\rremote: Counting objects:  13% (22/169)\u001b[K\rremote: Counting objects:  14% (24/169)\u001b[K\rremote: Counting objects:  15% (26/169)\u001b[K\rremote: Counting objects:  16% (28/169)\u001b[K\rremote: Counting objects:  17% (29/169)\u001b[K\rremote: Counting objects:  18% (31/169)\u001b[K\rremote: Counting objects:  19% (33/169)\u001b[K\rremote: Counting objects:  20% (34/169)\u001b[K\rremote: Counting objects:  21% (36/169)\u001b[K\rremote: Counting objects:  22% (38/169)\u001b[K\rremote: Counting objects:  23% (39/169)\u001b[K\rremote: Counting objects:  24% (41/169)\u001b[K\rremote: Counting objects:  25% (43/169)\u001b[K\rremote: Counting objects:  26% (44/169)\u001b[K\rremote: Counting objects:  27% (46/169)\u001b[K\rremote: Counting objects:  28% (48/169)\u001b[K\rremote: Counting objects:  29% (50/169)\u001b[K\rremote: Counting objects:  30% (51/169)\u001b[K\rremote: Counting objects:  31% (53/169)\u001b[K\rremote: Counting objects:  32% (55/169)\u001b[K\rremote: Counting objects:  33% (56/169)\u001b[K\rremote: Counting objects:  34% (58/169)\u001b[K\rremote: Counting objects:  35% (60/169)\u001b[K\rremote: Counting objects:  36% (61/169)\u001b[K\rremote: Counting objects:  37% (63/169)\u001b[K\rremote: Counting objects:  38% (65/169)\u001b[K\rremote: Counting objects:  39% (66/169)\u001b[K\rremote: Counting objects:  40% (68/169)\u001b[K\rremote: Counting objects:  41% (70/169)\u001b[K\rremote: Counting objects:  42% (71/169)\u001b[K\rremote: Counting objects:  43% (73/169)\u001b[K\rremote: Counting objects:  44% (75/169)\u001b[K\rremote: Counting objects:  45% (77/169)\u001b[K\rremote: Counting objects:  46% (78/169)\u001b[K\rremote: Counting objects:  47% (80/169)\u001b[K\rremote: Counting objects:  48% (82/169)\u001b[K\rremote: Counting objects:  49% (83/169)\u001b[K\rremote: Counting objects:  50% (85/169)\u001b[K\rremote: Counting objects:  51% (87/169)\u001b[K\rremote: Counting objects:  52% (88/169)\u001b[K\rremote: Counting objects:  53% (90/169)\u001b[K\rremote: Counting objects:  54% (92/169)\u001b[K\rremote: Counting objects:  55% (93/169)\u001b[K\rremote: Counting objects:  56% (95/169)\u001b[K\rremote: Counting objects:  57% (97/169)\u001b[K\rremote: Counting objects:  58% (99/169)\u001b[K\rremote: Counting objects:  59% (100/169)\u001b[K\rremote: Counting objects:  60% (102/169)\u001b[K\rremote: Counting objects:  61% (104/169)\u001b[K\rremote: Counting objects:  62% (105/169)\u001b[K\rremote: Counting objects:  63% (107/169)\u001b[K\rremote: Counting objects:  64% (109/169)\u001b[K\rremote: Counting objects:  65% (110/169)\u001b[K\rremote: Counting objects:  66% (112/169)\u001b[K\rremote: Counting objects:  67% (114/169)\u001b[K\rremote: Counting objects:  68% (115/169)\u001b[K\rremote: Counting objects:  69% (117/169)\u001b[K\rremote: Counting objects:  70% (119/169)\u001b[K\rremote: Counting objects:  71% (120/169)\u001b[K\rremote: Counting objects:  72% (122/169)\u001b[K\rremote: Counting objects:  73% (124/169)\u001b[K\rremote: Counting objects:  74% (126/169)\u001b[K\rremote: Counting objects:  75% (127/169)\u001b[K\rremote: Counting objects:  76% (129/169)\u001b[K\rremote: Counting objects:  77% (131/169)\u001b[K\rremote: Counting objects:  78% (132/169)\u001b[K\rremote: Counting objects:  79% (134/169)\u001b[K\rremote: Counting objects:  80% (136/169)\u001b[K\rremote: Counting objects:  81% (137/169)\u001b[K\rremote: Counting objects:  82% (139/169)\u001b[K\rremote: Counting objects:  83% (141/169)\u001b[K\rremote: Counting objects:  84% (142/169)\u001b[K\rremote: Counting objects:  85% (144/169)\u001b[K\rremote: Counting objects:  86% (146/169)\u001b[K\rremote: Counting objects:  87% (148/169)\u001b[K\rremote: Counting objects:  88% (149/169)\u001b[K\rremote: Counting objects:  89% (151/169)\u001b[K\rremote: Counting objects:  90% (153/169)\u001b[K\rremote: Counting objects:  91% (154/169)\u001b[K\rremote: Counting objects:  92% (156/169)\u001b[K\rremote: Counting objects:  93% (158/169)\u001b[K\rremote: Counting objects:  94% (159/169)\u001b[K\rremote: Counting objects:  95% (161/169)\u001b[K\rremote: Counting objects:  96% (163/169)\u001b[K\rremote: Counting objects:  97% (164/169)\u001b[K\rremote: Counting objects:  98% (166/169)\u001b[K\rremote: Counting objects:  99% (168/169)\u001b[K\rremote: Counting objects: 100% (169/169)\u001b[K\rremote: Counting objects: 100% (169/169), done.\u001b[K\n",
            "remote: Compressing objects: 100% (116/116), done.\u001b[K\n",
            "remote: Total 169 (delta 97), reused 116 (delta 46), pack-reused 0\u001b[K\n",
            "Receiving objects: 100% (169/169), 4.19 MiB | 15.91 MiB/s, done.\n",
            "Resolving deltas: 100% (97/97), done.\n"
          ],
          "name": "stdout"
        }
      ]
    },
    {
      "cell_type": "code",
      "metadata": {
        "id": "PFC6goxjmEPm",
        "colab_type": "code",
        "colab": {
          "base_uri": "https://localhost:8080/",
          "height": 34
        },
        "outputId": "453720f6-8494-4429-bfa6-4403b7df8d46"
      },
      "source": [
        "cd Crawler/buildDatasetsFiles"
      ],
      "execution_count": 4,
      "outputs": [
        {
          "output_type": "stream",
          "text": [
            "/content/Crawler/buildDatasetsFiles\n"
          ],
          "name": "stdout"
        }
      ]
    },
    {
      "cell_type": "code",
      "metadata": {
        "id": "EYl-RSjfpCYM",
        "colab_type": "code",
        "colab": {}
      },
      "source": [
        ""
      ],
      "execution_count": null,
      "outputs": []
    }
  ]
}